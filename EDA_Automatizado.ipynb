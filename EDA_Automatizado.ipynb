{
  "nbformat": 4,
  "nbformat_minor": 0,
  "metadata": {
    "colab": {
      "provenance": [],
      "authorship_tag": "ABX9TyMAuABwL5eee4f4OxbUKnPt",
      "include_colab_link": true
    },
    "kernelspec": {
      "name": "python3",
      "display_name": "Python 3"
    },
    "language_info": {
      "name": "python"
    }
  },
  "cells": [
    {
      "cell_type": "markdown",
      "metadata": {
        "id": "view-in-github",
        "colab_type": "text"
      },
      "source": [
        "<a href=\"https://colab.research.google.com/github/hache22/Eda-Automatizado/blob/main/EDA_Automatizado.ipynb\" target=\"_parent\"><img src=\"https://colab.research.google.com/assets/colab-badge.svg\" alt=\"Open In Colab\"/></a>"
      ]
    },
    {
      "cell_type": "code",
      "source": [
        "!pip install pandas pandas_profiling\n"
      ],
      "metadata": {
        "id": "FWvVAIx2o6fh"
      },
      "execution_count": null,
      "outputs": []
    },
    {
      "cell_type": "code",
      "execution_count": null,
      "metadata": {
        "id": "8KH1hFQQouwD"
      },
      "outputs": [],
      "source": [
        "import pandas as pd\n",
        "from pandas_profiling import ProfileReport\n",
        "\n",
        "# Función para realizar EDA\n",
        "def realizar_eda(archivo_csv):\n",
        "    # Cargar los datos\n",
        "    datos = pd.read_csv(archivo_csv)\n",
        "\n",
        "    # Crear el informe de EDA\n",
        "    perfil = ProfileReport(datos, title='Informe de EDA', explorative=True)\n",
        "\n",
        "    # Guardar el informe en un archivo HTML\n",
        "    perfil.to_file(\"informe_eda.html\")\n",
        "\n",
        "    print(\"El informe de EDA ha sido creado y guardado como 'informe_eda.html'.\")\n",
        "\n",
        "# Reemplazar 'archivo.csv' con el nombre del archivo CSV\n",
        "realizar_eda('archivo.csv')\n"
      ]
    }
  ]
}